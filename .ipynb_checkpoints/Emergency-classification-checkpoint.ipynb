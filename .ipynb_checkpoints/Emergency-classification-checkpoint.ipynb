{
 "cells": [
  {
   "cell_type": "code",
   "execution_count": 1,
   "id": "1fb9b2ba-cc97-41cb-8336-809a53c680ce",
   "metadata": {},
   "outputs": [],
   "source": [
    "#!pip3 install torch torchvision torchaudio --index-url https://download.pytorch.org/whl/cu121"
   ]
  },
  {
   "cell_type": "code",
   "execution_count": 2,
   "id": "f13d76ab-a8f6-4c3e-b473-6a85fd09b0c3",
   "metadata": {},
   "outputs": [],
   "source": [
    "# Torch loads\n",
    "import torch\n",
    "import torch.nn as nn\n",
    "import torch.optim as optim\n",
    "import torch.utils.data as data_utils\n",
    "import torch.nn.functional as F\n",
    "from torch.utils.data import Dataset\n",
    "from torch.utils.tensorboard import SummaryWriter\n",
    "from torch.nn.utils.rnn import pad_sequence\n",
    "from torch.utils.data import DataLoader\n",
    "\n",
    "# Non-Torch Loads\n",
    "import pandas as pd\n",
    "import numpy as np\n",
    "\n",
    "#Cleaning Loads\n",
    "import regex as re\n",
    "import emoji\n",
    "import nltk"
   ]
  },
  {
   "cell_type": "code",
   "execution_count": 3,
   "id": "04af0667-ee53-4803-af07-ede8f010b263",
   "metadata": {},
   "outputs": [
    {
     "name": "stdout",
     "output_type": "stream",
     "text": [
      "                                                text  target\n",
      "0  Our Deeds are the Reason of this #earthquake M...       1\n",
      "1             Forest fire near La Ronge Sask. Canada       1\n",
      "2  All residents asked to 'shelter in place' are ...       1\n",
      "3  13,000 people receive #wildfires evacuation or...       1\n",
      "4  Just got sent this photo from Ruby #Alaska as ...       1\n"
     ]
    },
    {
     "data": {
      "text/plain": [
       "(7613, 2)"
      ]
     },
     "execution_count": 3,
     "metadata": {},
     "output_type": "execute_result"
    }
   ],
   "source": [
    "train = pd.read_csv(\"nlp-getting-started/train.csv\")\n",
    "train = train.drop(labels = [\"keyword\", \"location\", \"id\"], axis = 1)\n",
    "print(train.head())\n",
    "(train.shape)"
   ]
  },
  {
   "cell_type": "markdown",
   "id": "f81fc971-3d4e-4ede-9035-b4a4375b7b0a",
   "metadata": {},
   "source": [
    "# EDA\n",
    "The dataset has 57% non-disaster tweets, and 43% Disaster tweets.  There are 31924 unique words.  This will drive my tuning the vectorization of the model."
   ]
  },
  {
   "cell_type": "code",
   "execution_count": 4,
   "id": "4b938ef7-8812-4bd8-b1b9-79b0560ff05a",
   "metadata": {},
   "outputs": [
    {
     "data": {
      "text/plain": [
       "count    7613.00000\n",
       "mean        0.42966\n",
       "std         0.49506\n",
       "min         0.00000\n",
       "25%         0.00000\n",
       "50%         0.00000\n",
       "75%         1.00000\n",
       "max         1.00000\n",
       "Name: target, dtype: float64"
      ]
     },
     "execution_count": 4,
     "metadata": {},
     "output_type": "execute_result"
    }
   ],
   "source": [
    "train['target'].describe()"
   ]
  },
  {
   "cell_type": "code",
   "execution_count": 5,
   "id": "5250c13b-716d-4f91-86a8-221905096093",
   "metadata": {},
   "outputs": [
    {
     "name": "stdout",
     "output_type": "stream",
     "text": [
      "31924\n"
     ]
    }
   ],
   "source": [
    "unique_words = set()\n",
    "for text in train[\"text\"]:\n",
    "    unique_words.update(text.split())\n",
    "print(len(unique_words))"
   ]
  },
  {
   "cell_type": "markdown",
   "id": "5248ba15-caf2-4a97-af6e-2d0dfabe2850",
   "metadata": {},
   "source": [
    "# Cleaning\n",
    "Standard tweet cleaning.  Cleaning found at:\n",
    "https://stackoverflow.com/questions/64719706/cleaning-twitter-data-pandas-python\n",
    "\n",
    "# Tokenizatin\n",
    "I tolkenized the tweets in preparation to convert to tensors for embedding.\n"
   ]
  },
  {
   "cell_type": "code",
   "execution_count": 6,
   "id": "d1b87ba1-c57f-4159-8c9f-e60f9c8f5365",
   "metadata": {},
   "outputs": [],
   "source": [
    "for tweet in train['text']:\n",
    "    tweet = re.sub(\"@[A-Za-z0-9]+\",\"\",tweet) #Remove @ sign\n",
    "    tweet = re.sub(r\"(?:\\@|http?\\://|https?\\://|www)\\S+\", \"\", tweet) #Remove http links\n",
    "    tweet = \" \".join(tweet.split())\n",
    "    tweet = emoji.replace_emoji(tweet, '') #Remove Emojis\n",
    "    tweet = tweet.replace(\"#\", \"\").replace(\"_\", \" \") #Remove hashtag sign but keep the text\n",
    "    #Tolkenize the Text\n",
    "    \n",
    "    tknzr = nltk.tokenize.casual.TweetTokenizer(preserve_case = False, strip_handles = True, reduce_len = True)\n",
    "    tweet = tknzr.tokenize(tweet)"
   ]
  },
  {
   "cell_type": "code",
   "execution_count": 7,
   "id": "38e526e0-5b4a-44ab-93bd-d350e646191b",
   "metadata": {},
   "outputs": [],
   "source": [
    "# Split the data into train and test sets\n",
    "train_dat = train.sample(frac = .8)\n",
    "test_dat = train.drop(train_dat.index)"
   ]
  },
  {
   "cell_type": "markdown",
   "id": "b17c0649-e1af-40ff-8d42-3ab6b7b138af",
   "metadata": {},
   "source": [
    "# Vectorizing\n",
    "I used pytorchs internal vectorizer to vectorize the text.  I\n"
   ]
  },
  {
   "cell_type": "code",
   "execution_count": 8,
   "id": "227296e5-b28c-4a61-81c5-d47a90151761",
   "metadata": {},
   "outputs": [],
   "source": [
    "# Dataset Importing from https://pytorch.org/tutorials/beginner/basics/data_tutorial.html?highlight=dataloader\n",
    "\n",
    "#tokenize the text for tensor load\n",
    "def tokenize(text):\n",
    "    # Your tokenizer logic here\n",
    "    return [vocab[token] for token in text.split()]\n",
    "\n",
    "class CustomTextDataset(Dataset):\n",
    "    def __init__(self, data,vocab, transform=None, target_transform=None):\n",
    "        self.data = data\n",
    "        self.vocab = vocab\n",
    "        self.transform = transform\n",
    "        self.target_transform = target_transform\n",
    "        \n",
    "    def __len__(self):\n",
    "        return len(self.data)\n",
    "\n",
    "    def __getitem__(self, idx):\n",
    "        tweet = self.data.iloc[idx, 0]\n",
    "        label = self.data.iloc[idx, 1]\n",
    "        tokenized_tweet = [self.vocab.get(token, 0) for token in tweet.split()]  # Tokenize and handle unknown tokens\n",
    "        tweet_tensor = torch.tensor(tokenized_tweet, dtype=torch.long)\n",
    "        label_tensor = torch.tensor(label, dtype=torch.float)\n",
    "        \n",
    "        if self.transform:\n",
    "            tweet_tensor = self.transform(tweet_tensor)\n",
    "        if self.target_transform:\n",
    "            label_tensor = self.target_transform(label_tensor)\n",
    "\n",
    "        return tweet_tensor, label_tensor\n",
    "\n",
    "def collate_batch(batch):\n",
    "    label_list, text_list = [], []\n",
    "    for (_text, _label) in batch:\n",
    "        label_list.append(_label)\n",
    "        text_list.append(_text.clone().detach())\n",
    "    return pad_sequence(text_list, batch_first=True), torch.tensor(label_list, dtype=torch.float)\n",
    "\n",
    "vocab = {'Emergency': 1, 'Non-Emergency':2}\n",
    "\n",
    "# Creating training and validation datasets\n",
    "training_set = CustomTextDataset(train_dat, vocab)\n",
    "validation_set = CustomTextDataset(test_dat, vocab)\n",
    "\n",
    "# Creating data loaders\n",
    "training_loader = torch.utils.data.DataLoader(training_set, batch_size=32, shuffle=True, collate_fn=collate_batch)\n",
    "validation_loader = torch.utils.data.DataLoader(validation_set, batch_size=32, shuffle=False, collate_fn=collate_batch)\n"
   ]
  },
  {
   "cell_type": "code",
   "execution_count": 38,
   "id": "9a443764-d66c-45fa-8d15-d3cb05df622c",
   "metadata": {},
   "outputs": [],
   "source": [
    "# Initial Setup\n",
    "\n",
    "class Tweets(nn.Module):\n",
    "    def __init__(self, vocab_size, embedding_dim):\n",
    "        super(Tweets, self).__init__()\n",
    "        self.embedding = nn.Embedding(vocab_size, embedding_dim)\n",
    "        self.rnn_layer = nn.RNN(input_size=embedding_dim, hidden_size=32, num_layers=1,\n",
    "                                nonlinearity='tanh', bias=True, bidirectional=False)\n",
    "        self.output_layer = nn.Linear(32, 1)\n",
    "\n",
    "    def forward(self, input_text):\n",
    "        # Assuming input_text is already a LongTensor that has been prepared outside the model\n",
    "        embedded = self.embedding(input_text)\n",
    "        rnn_output, _ = self.rnn_layer(embedded)\n",
    "        output = rnn_output[:, -1, :]  # Extract the last timestep output\n",
    "        final_output = self.output_layer(output)\n",
    "        return final_output.squeeze()  # Squeeze to remove the extra dimension\n"
   ]
  },
  {
   "cell_type": "code",
   "execution_count": null,
   "id": "ca084162-e5c6-4c64-aaf9-ffafc0ccc723",
   "metadata": {},
   "outputs": [],
   "source": [
    "\n",
    "\n",
    "def train_one_epoch(epoch_index, model,training_loader, loss_fn, optimizer, tb_writer):\n",
    "    running_loss = 0.\n",
    "    last_loss = 0.\n",
    "\n",
    "    # Here, we use enumerate(training_loader) instead of\n",
    "    # iter(training_loader) so that we can track the batch\n",
    "    # index and do some intra-epoch reporting\n",
    "    for i, data in enumerate(training_loader):\n",
    "        # Every data instance is an input + label pair\n",
    "        inputs, labels = data\n",
    "\n",
    "        # Zero your gradients for every batch!\n",
    "        optimizer.zero_grad()\n",
    "\n",
    "        # Make predictions for this batch\n",
    "        outputs = model(inputs)\n",
    "\n",
    "        # Compute the loss and its gradients\n",
    "        loss = loss_fn(outputs, labels)\n",
    "        loss.backward()\n",
    "\n",
    "        # Adjust learning weights\n",
    "        optimizer.step()\n",
    "\n",
    "        # Gather data and report\n",
    "        running_loss += loss.item()\n",
    "        if i % 1000 == 999:\n",
    "            last_loss = running_loss / 1000 # loss per batch\n",
    "            print('  batch {} loss: {}'.format(i + 1, last_loss))\n",
    "            tb_x = epoch_index * len(training_loader) + i + 1\n",
    "            tb_writer.add_scalar('Loss/train', last_loss, tb_x)\n",
    "            running_loss = 0.\n",
    "\n",
    "    return last_loss\n",
    "\n",
    "# Execution\n",
    "model = Tweets(vocab_size=30000, embedding_dim =1024)\n",
    "loss_fn = nn.BCEWithLogitsLoss()\n",
    "optimizer = optim.Adam(model.parameters(), lr=0.001)\n",
    "tb_writer = SummaryWriter('logs')\n",
    "train_one_epoch(1,model, training_loader, loss_fn, optimizer, tb_writer)\n",
    "tb_writer.close()"
   ]
  },
  {
   "cell_type": "code",
   "execution_count": null,
   "id": "9087d82f-44d3-49a7-8270-5eb0556ef73b",
   "metadata": {},
   "outputs": [],
   "source": []
  },
  {
   "cell_type": "code",
   "execution_count": null,
   "id": "698a4c68-d6db-441d-afd7-270c3dfb9b70",
   "metadata": {},
   "outputs": [],
   "source": []
  }
 ],
 "metadata": {
  "kernelspec": {
   "display_name": "Python 3 (ipykernel)",
   "language": "python",
   "name": "python3"
  },
  "language_info": {
   "codemirror_mode": {
    "name": "ipython",
    "version": 3
   },
   "file_extension": ".py",
   "mimetype": "text/x-python",
   "name": "python",
   "nbconvert_exporter": "python",
   "pygments_lexer": "ipython3",
   "version": "3.11.3"
  }
 },
 "nbformat": 4,
 "nbformat_minor": 5
}
