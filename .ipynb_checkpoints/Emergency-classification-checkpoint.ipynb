{
 "cells": [
  {
   "cell_type": "code",
   "execution_count": 38,
   "id": "1fb9b2ba-cc97-41cb-8336-809a53c680ce",
   "metadata": {},
   "outputs": [
    {
     "name": "stdout",
     "output_type": "stream",
     "text": [
      "Requirement already satisfied: tensorboard in c:\\users\\isaac\\appdata\\local\\programs\\python\\python311\\lib\\site-packages (2.13.0)\n",
      "Requirement already satisfied: torcheval in c:\\users\\isaac\\appdata\\local\\programs\\python\\python311\\lib\\site-packages (0.0.7)\n",
      "Requirement already satisfied: pandas in c:\\users\\isaac\\appdata\\local\\programs\\python\\python311\\lib\\site-packages (1.5.3)\n",
      "Requirement already satisfied: regex in c:\\users\\isaac\\appdata\\local\\programs\\python\\python311\\lib\\site-packages (2023.8.8)\n",
      "Requirement already satisfied: emoji in c:\\users\\isaac\\appdata\\local\\programs\\python\\python311\\lib\\site-packages (2.11.1)\n",
      "Requirement already satisfied: nltk in c:\\users\\isaac\\appdata\\local\\programs\\python\\python311\\lib\\site-packages (3.8.1)\n",
      "Requirement already satisfied: matplotlib in c:\\users\\isaac\\appdata\\local\\programs\\python\\python311\\lib\\site-packages (3.7.1)\n",
      "Requirement already satisfied: absl-py>=0.4 in c:\\users\\isaac\\appdata\\local\\programs\\python\\python311\\lib\\site-packages (from tensorboard) (2.0.0)\n",
      "Requirement already satisfied: grpcio>=1.48.2 in c:\\users\\isaac\\appdata\\local\\programs\\python\\python311\\lib\\site-packages (from tensorboard) (1.60.0)\n",
      "Requirement already satisfied: google-auth<3,>=1.6.3 in c:\\users\\isaac\\appdata\\local\\programs\\python\\python311\\lib\\site-packages (from tensorboard) (2.25.2)\n",
      "Requirement already satisfied: google-auth-oauthlib<1.1,>=0.5 in c:\\users\\isaac\\appdata\\local\\programs\\python\\python311\\lib\\site-packages (from tensorboard) (1.0.0)\n",
      "Requirement already satisfied: markdown>=2.6.8 in c:\\users\\isaac\\appdata\\local\\programs\\python\\python311\\lib\\site-packages (from tensorboard) (3.5.1)\n",
      "Requirement already satisfied: numpy>=1.12.0 in c:\\users\\isaac\\appdata\\local\\programs\\python\\python311\\lib\\site-packages (from tensorboard) (1.24.3)\n",
      "Requirement already satisfied: protobuf>=3.19.6 in c:\\users\\isaac\\appdata\\local\\programs\\python\\python311\\lib\\site-packages (from tensorboard) (4.23.4)\n",
      "Requirement already satisfied: requests<3,>=2.21.0 in c:\\users\\isaac\\appdata\\local\\programs\\python\\python311\\lib\\site-packages (from tensorboard) (2.28.2)\n",
      "Requirement already satisfied: setuptools>=41.0.0 in c:\\users\\isaac\\appdata\\local\\programs\\python\\python311\\lib\\site-packages (from tensorboard) (65.5.0)\n",
      "Requirement already satisfied: tensorboard-data-server<0.8.0,>=0.7.0 in c:\\users\\isaac\\appdata\\local\\programs\\python\\python311\\lib\\site-packages (from tensorboard) (0.7.2)\n",
      "Requirement already satisfied: werkzeug>=1.0.1 in c:\\users\\isaac\\appdata\\local\\programs\\python\\python311\\lib\\site-packages (from tensorboard) (3.0.1)\n",
      "Requirement already satisfied: wheel>=0.26 in c:\\users\\isaac\\appdata\\local\\programs\\python\\python311\\lib\\site-packages (from tensorboard) (0.43.0)\n",
      "Requirement already satisfied: typing-extensions in c:\\users\\isaac\\appdata\\local\\programs\\python\\python311\\lib\\site-packages (from torcheval) (4.11.0)\n",
      "Requirement already satisfied: python-dateutil>=2.8.1 in c:\\users\\isaac\\appdata\\local\\programs\\python\\python311\\lib\\site-packages (from pandas) (2.8.2)\n",
      "Requirement already satisfied: pytz>=2020.1 in c:\\users\\isaac\\appdata\\local\\programs\\python\\python311\\lib\\site-packages (from pandas) (2023.3)\n",
      "Requirement already satisfied: click in c:\\users\\isaac\\appdata\\local\\programs\\python\\python311\\lib\\site-packages (from nltk) (8.1.7)\n",
      "Requirement already satisfied: joblib in c:\\users\\isaac\\appdata\\local\\programs\\python\\python311\\lib\\site-packages (from nltk) (1.3.1)\n",
      "Requirement already satisfied: tqdm in c:\\users\\isaac\\appdata\\local\\programs\\python\\python311\\lib\\site-packages (from nltk) (4.66.1)\n",
      "Requirement already satisfied: contourpy>=1.0.1 in c:\\users\\isaac\\appdata\\local\\programs\\python\\python311\\lib\\site-packages (from matplotlib) (1.1.0)\n",
      "Requirement already satisfied: cycler>=0.10 in c:\\users\\isaac\\appdata\\local\\programs\\python\\python311\\lib\\site-packages (from matplotlib) (0.11.0)\n",
      "Requirement already satisfied: fonttools>=4.22.0 in c:\\users\\isaac\\appdata\\local\\programs\\python\\python311\\lib\\site-packages (from matplotlib) (4.40.0)\n",
      "Requirement already satisfied: kiwisolver>=1.0.1 in c:\\users\\isaac\\appdata\\local\\programs\\python\\python311\\lib\\site-packages (from matplotlib) (1.4.4)\n",
      "Requirement already satisfied: packaging>=20.0 in c:\\users\\isaac\\appdata\\local\\programs\\python\\python311\\lib\\site-packages (from matplotlib) (23.1)\n",
      "Requirement already satisfied: pillow>=6.2.0 in c:\\users\\isaac\\appdata\\local\\programs\\python\\python311\\lib\\site-packages (from matplotlib) (10.0.0)\n",
      "Requirement already satisfied: pyparsing>=2.3.1 in c:\\users\\isaac\\appdata\\local\\programs\\python\\python311\\lib\\site-packages (from matplotlib) (3.1.0)\n",
      "Requirement already satisfied: cachetools<6.0,>=2.0.0 in c:\\users\\isaac\\appdata\\local\\programs\\python\\python311\\lib\\site-packages (from google-auth<3,>=1.6.3->tensorboard) (5.3.2)\n",
      "Requirement already satisfied: pyasn1-modules>=0.2.1 in c:\\users\\isaac\\appdata\\local\\programs\\python\\python311\\lib\\site-packages (from google-auth<3,>=1.6.3->tensorboard) (0.3.0)\n",
      "Requirement already satisfied: rsa<5,>=3.1.4 in c:\\users\\isaac\\appdata\\local\\programs\\python\\python311\\lib\\site-packages (from google-auth<3,>=1.6.3->tensorboard) (4.9)\n",
      "Requirement already satisfied: requests-oauthlib>=0.7.0 in c:\\users\\isaac\\appdata\\local\\programs\\python\\python311\\lib\\site-packages (from google-auth-oauthlib<1.1,>=0.5->tensorboard) (1.3.1)\n",
      "Requirement already satisfied: six>=1.5 in c:\\users\\isaac\\appdata\\local\\programs\\python\\python311\\lib\\site-packages (from python-dateutil>=2.8.1->pandas) (1.16.0)\n",
      "Requirement already satisfied: charset-normalizer<4,>=2 in c:\\users\\isaac\\appdata\\local\\programs\\python\\python311\\lib\\site-packages (from requests<3,>=2.21.0->tensorboard) (3.1.0)\n",
      "Requirement already satisfied: idna<4,>=2.5 in c:\\users\\isaac\\appdata\\local\\programs\\python\\python311\\lib\\site-packages (from requests<3,>=2.21.0->tensorboard) (3.4)\n",
      "Requirement already satisfied: urllib3<1.27,>=1.21.1 in c:\\users\\isaac\\appdata\\local\\programs\\python\\python311\\lib\\site-packages (from requests<3,>=2.21.0->tensorboard) (1.26.15)\n",
      "Requirement already satisfied: certifi>=2017.4.17 in c:\\users\\isaac\\appdata\\local\\programs\\python\\python311\\lib\\site-packages (from requests<3,>=2.21.0->tensorboard) (2022.12.7)\n",
      "Requirement already satisfied: MarkupSafe>=2.1.1 in c:\\users\\isaac\\appdata\\local\\programs\\python\\python311\\lib\\site-packages (from werkzeug>=1.0.1->tensorboard) (2.1.2)\n",
      "Requirement already satisfied: colorama in c:\\users\\isaac\\appdata\\local\\programs\\python\\python311\\lib\\site-packages (from click->nltk) (0.4.6)\n",
      "Requirement already satisfied: pyasn1<0.6.0,>=0.4.6 in c:\\users\\isaac\\appdata\\local\\programs\\python\\python311\\lib\\site-packages (from pyasn1-modules>=0.2.1->google-auth<3,>=1.6.3->tensorboard) (0.5.1)\n",
      "Requirement already satisfied: oauthlib>=3.0.0 in c:\\users\\isaac\\appdata\\local\\programs\\python\\python311\\lib\\site-packages (from requests-oauthlib>=0.7.0->google-auth-oauthlib<1.1,>=0.5->tensorboard) (3.2.2)\n"
     ]
    }
   ],
   "source": [
    "!pip install tensorboard torcheval pandas regex emoji nltk matplotlib"
   ]
  },
  {
   "cell_type": "code",
   "execution_count": 39,
   "id": "f13d76ab-a8f6-4c3e-b473-6a85fd09b0c3",
   "metadata": {},
   "outputs": [
    {
     "name": "stderr",
     "output_type": "stream",
     "text": [
      "[nltk_data] Downloading package punkt to\n",
      "[nltk_data]     C:\\Users\\isaac\\AppData\\Roaming\\nltk_data...\n",
      "[nltk_data]   Package punkt is already up-to-date!\n"
     ]
    }
   ],
   "source": [
    "# Torch loads\n",
    "import torch\n",
    "import torch.nn as nn\n",
    "import torch.optim as optim\n",
    "import torch.utils.data as data_utils\n",
    "\n",
    "import torch.nn.functional as F\n",
    "from torch.utils.data import Dataset\n",
    "from torch.utils.tensorboard import SummaryWriter\n",
    "from torch.nn.utils.rnn import pad_sequence\n",
    "from torch.utils.data import DataLoader\n",
    "from torcheval.metrics.functional import binary_f1_score\n",
    "\n",
    "# Non-Torch Loads\n",
    "import pandas as pd\n",
    "import numpy as np\n",
    "from datetime import datetime, timezone, timedelta\n",
    "\n",
    "#Cleaning Loads\n",
    "import regex as re\n",
    "import emoji\n",
    "import nltk\n",
    "from nltk.tokenize import word_tokenize\n",
    "nltk.download('punkt')\n",
    "import requests\n",
    "from collections import Counter\n",
    "\n",
    "#Visualization\n",
    "import matplotlib.pyplot as plt"
   ]
  },
  {
   "cell_type": "code",
   "execution_count": 40,
   "id": "04af0667-ee53-4803-af07-ede8f010b263",
   "metadata": {},
   "outputs": [
    {
     "name": "stdout",
     "output_type": "stream",
     "text": [
      "train\n",
      "                                                text  target\n",
      "0  Our Deeds are the Reason of this #earthquake M...       1\n",
      "1             Forest fire near La Ronge Sask. Canada       1\n",
      "2  All residents asked to 'shelter in place' are ...       1\n",
      "3  13,000 people receive #wildfires evacuation or...       1\n",
      "4  Just got sent this photo from Ruby #Alaska as ...       1\n",
      "test\n",
      "   id                                               text\n",
      "0   0                 Just happened a terrible car crash\n",
      "1   2  Heard about #earthquake is different cities, s...\n",
      "2   3  there is a forest fire at spot pond, geese are...\n",
      "3   9           Apocalypse lighting. #Spokane #wildfires\n",
      "4  11      Typhoon Soudelor kills 28 in China and Taiwan\n"
     ]
    }
   ],
   "source": [
    "train_path = \"nlp-getting-started/train.csv\"\n",
    "test_path = \"nlp-getting-started/test.csv\"\n",
    "train = pd.read_csv(train_path, header = 0)\n",
    "train = train.drop(labels = [\"keyword\", \"location\", \"id\"], axis = 1)\n",
    "test = pd.read_csv(test_path, header = 0)\n",
    "test = test.drop(labels = [\"keyword\", \"location\"], axis = 1)\n",
    "print(\"train\")\n",
    "print(train.head())\n",
    "print(\"test\")\n",
    "print(test.head())"
   ]
  },
  {
   "cell_type": "markdown",
   "id": "f81fc971-3d4e-4ede-9035-b4a4375b7b0a",
   "metadata": {},
   "source": [
    "# EDA\n",
    "The dataset has 57% non-disaster tweets, and 43% Disaster tweets.  There are 31924 unique words.  This will drive my tuning the vectorization of the model."
   ]
  },
  {
   "cell_type": "code",
   "execution_count": 41,
   "id": "4b938ef7-8812-4bd8-b1b9-79b0560ff05a",
   "metadata": {},
   "outputs": [
    {
     "data": {
      "text/plain": [
       "count    7613.00000\n",
       "mean        0.42966\n",
       "std         0.49506\n",
       "min         0.00000\n",
       "25%         0.00000\n",
       "50%         0.00000\n",
       "75%         1.00000\n",
       "max         1.00000\n",
       "Name: target, dtype: float64"
      ]
     },
     "execution_count": 41,
     "metadata": {},
     "output_type": "execute_result"
    }
   ],
   "source": [
    "train['target'].describe()"
   ]
  },
  {
   "cell_type": "code",
   "execution_count": 42,
   "id": "5250c13b-716d-4f91-86a8-221905096093",
   "metadata": {},
   "outputs": [
    {
     "name": "stdout",
     "output_type": "stream",
     "text": [
      "31924\n"
     ]
    }
   ],
   "source": [
    "unique_words = set()\n",
    "for text in train[\"text\"]:\n",
    "    unique_words.update(text.split())\n",
    "print(len(unique_words))"
   ]
  },
  {
   "cell_type": "markdown",
   "id": "5248ba15-caf2-4a97-af6e-2d0dfabe2850",
   "metadata": {},
   "source": [
    "# Cleaning\n",
    "Standard tweet cleaning.  Cleaning found at:\n",
    "https://stackoverflow.com/questions/64719706/cleaning-twitter-data-pandas-python\n",
    "\n",
    "# Tokenizatin\n",
    "I tolkenized the tweets in preparation to convert to tensors for embedding.\n"
   ]
  },
  {
   "cell_type": "code",
   "execution_count": 43,
   "id": "f63f3726-3a79-4c8f-97bf-2a1a3f6cca61",
   "metadata": {},
   "outputs": [],
   "source": [
    "# Thank you Chatgpt for this\n",
    "def download_file_from_github(url):\n",
    "    \"\"\"Download a file from a GitHub URL and return its contents as a list of lines.\"\"\"\n",
    "    response = requests.get(url)\n",
    "    if response.status_code == 200:\n",
    "        lines = response.text.splitlines()  # Split the content into lines\n",
    "        return lines  # You could change this to `set(lines)` if you need a set instead of a list\n",
    "    else:\n",
    "        raise Exception(f\"Failed to download file: {response.status_code}\")"
   ]
  },
  {
   "cell_type": "code",
   "execution_count": 44,
   "id": "d1b87ba1-c57f-4159-8c9f-e60f9c8f5365",
   "metadata": {
    "scrolled": true
   },
   "outputs": [],
   "source": [
    "vocab = nltk.lm.Vocabulary(unk_cutoff=3)\n",
    "output = pd.DataFrame()\n",
    "stop_words = download_file_from_github(\"https://raw.githubusercontent.com/stopwords-iso/stopwords-en/master/raw/stop-words-english1.txt\")\n",
    "contractions = download_file_from_github(\"https://gist.githubusercontent.com/J3RN/ed7b420a6ea1d5bd6d06/raw/acda66b325a2b4d7282fb602a7551912cdc81e74/contractions.txt\")\n",
    "def cleaning(line):\n",
    "    tweet = line['text']\n",
    "    tweet = tweet.lower()\n",
    "    tweet = re.sub(\"@[A-Za-z0-9]+\",\"\",tweet) #Remove @ sign\n",
    "    tweet = re.sub(r\"(?:\\@|http?\\://|https?\\://|www)\\S+\", \"\", tweet) #Remove http links\n",
    "    tweet = \" \".join(tweet.split())\n",
    "    tweet = emoji.replace_emoji(tweet, '') #Remove Emojis\n",
    "    tweet = tweet.replace(\"#\", \"\").replace(\"_\", \" \") #Remove hashtag sign but keep the text\n",
    "    tweet = re.sub(r'[^a-z]', ' ', tweet) # Strip all symbols and replace with +\n",
    "    tweet = re.sub(r'\\b\\w{1,2}\\b+', '', tweet) #get rid of all words <= 2 characters\n",
    "    #Tolkenize the Text\n",
    "    word_tokens = word_tokenize(tweet)\n",
    "    word_tokens = [w for w in word_tokens if not w in stop_words]\n",
    "    word_tokens = [w for w in word_tokens if not w in contractions]\n",
    "    #tknzr = nltk.tokenize.casual.TweetTokenizer(preserve_case = False, strip_handles = True, reduce_len = True)\n",
    "    #tweet = tknzr.tokenize(tweet)\n",
    "    vocab.update(word_tokens)\n",
    "    return word_tokens \n",
    "\n",
    "train['cleaned_text'] = train.apply(cleaning, axis = 1)\n",
    "test['cleaned_text'] = test.apply(cleaning, axis = 1)\n",
    "\n",
    "vocab_items = {word: freq for word, freq in vocab.counts.items() if freq >= 3 and word != vocab.unk_label}\n",
    "\n",
    "# Filter for wrods with greater than len 3 in the vocab\n",
    "def filter_infrequent_words(tokens):\n",
    "    return [word for word in tokens if word in vocab_items]\n",
    "    \n",
    "train['cleaned_text'] = train['cleaned_text'].apply(filter_infrequent_words)\n",
    "test['cleaned_text'] = test['cleaned_text'].apply(filter_infrequent_words)"
   ]
  },
  {
   "cell_type": "code",
   "execution_count": 45,
   "id": "545afe54-0a63-4077-b8d1-378bccc2abee",
   "metadata": {},
   "outputs": [
    {
     "name": "stdout",
     "output_type": "stream",
     "text": [
      "                                                 text  target  \\\n",
      "0   Our Deeds are the Reason of this #earthquake M...       1   \n",
      "1              Forest fire near La Ronge Sask. Canada       1   \n",
      "2   All residents asked to 'shelter in place' are ...       1   \n",
      "3   13,000 people receive #wildfires evacuation or...       1   \n",
      "4   Just got sent this photo from Ruby #Alaska as ...       1   \n",
      "5   #RockyFire Update => California Hwy. 20 closed...       1   \n",
      "6   #flood #disaster Heavy rain causes flash flood...       1   \n",
      "7   I'm on top of the hill and I can see a fire in...       1   \n",
      "8   There's an emergency evacuation happening now ...       1   \n",
      "9   I'm afraid that the tornado is coming to our a...       1   \n",
      "10        Three people died from the heat wave so far       1   \n",
      "11  Haha South Tampa is getting flooded hah- WAIT ...       1   \n",
      "12  #raining #flooding #Florida #TampaBay #Tampa 1...       1   \n",
      "13            #Flood in Bago Myanmar #We arrived Bago       1   \n",
      "14  Damage to school bus on 80 in multi car crash ...       1   \n",
      "15                                     What's up man?       0   \n",
      "16                                      I love fruits       0   \n",
      "17                                   Summer is lovely       0   \n",
      "18                                  My car is so fast       0   \n",
      "19                       What a goooooooaaaaaal!!!!!!       0   \n",
      "\n",
      "                                         cleaned_text  \n",
      "0                [reason, earthquake, allah, forgive]  \n",
      "1                              [forest, fire, canada]  \n",
      "2   [residents, asked, shelter, place, officers, e...  \n",
      "3   [people, receive, wildfires, evacuation, order...  \n",
      "4           [photo, alaska, smoke, wildfires, school]  \n",
      "5   [rockyfire, update, california, hwy, closed, d...  \n",
      "6   [flood, disaster, heavy, rain, flash, flooding...  \n",
      "7                            [top, hill, fire, woods]  \n",
      "8   [emergency, evacuation, happening, building, s...  \n",
      "9                     [afraid, tornado, coming, area]  \n",
      "10                         [people, died, heat, wave]  \n",
      "11  [haha, south, tampa, flooded, hah, wait, live,...  \n",
      "12  [raining, flooding, florida, tampa, days, lost...  \n",
      "13                          [flood, myanmar, arrived]  \n",
      "14  [damage, school, bus, multi, car, crash, break...  \n",
      "15                                              [man]  \n",
      "16                                             [love]  \n",
      "17                                   [summer, lovely]  \n",
      "18                                        [car, fast]  \n",
      "19                                                 []  \n",
      "Rows processed with 0 remaining words\n",
      "                                                   text  target cleaned_text\n",
      "19                         What a goooooooaaaaaal!!!!!!       0           []\n",
      "24                                             LOOOOOOL       0           []\n",
      "28                                            Cooool :)       0           []\n",
      "30                                             The end!       0           []\n",
      "298   I know where to go when the zombies take over!...       0           []\n",
      "428             who makes these? http://t.co/28t3NWHdKy       0           []\n",
      "540   @funkflex yo flex im here https://t.co/2AZxdLCXgA       0           []\n",
      "823                                @Blizzard_Gamin ight       0           []\n",
      "1664                                 @Collapsed thank u       0           []\n",
      "3584   @_AsianShawtyy ?????????? I'm sorry. But I'm out       0           []\n",
      "3662  @Jake_ADavis @FaTality_US we are cuddling righ...       0           []\n",
      "3663                             @Truly_Stings Yo Dm me       1           []\n",
      "3680                         That usually NEVER happens       0           []\n",
      "4297  @HellFire_eV @JackPERU1 then I do this to one ...       0           []\n",
      "4509                         My back is so sunburned :(       1           []\n",
      "4758                      @Benji_Devos thanks thanks :3       0           []\n",
      "4891                        @eileenmfl are you serious?       0           []\n",
      "5115                                            Err:509       0           []\n",
      "5564                          @NathanFillion Hardly! ??       0           []\n",
      "5596      @DavidVonderhaar At least you were sincere ??       1           []\n",
      "6296  @Stretcher @invalid @Grazed @Rexyy @Towel I se...       0           []\n",
      "6306  How to Freeze Fruits and Veggies\\nhttp://t.co/...       0           []\n",
      "6917                                       Noel back up       0           []\n"
     ]
    }
   ],
   "source": [
    "print(train.head(20))\n",
    "zero_length_lists = train[train['cleaned_text'].apply(lambda x: len(x) == 0)]\n",
    "print(\"Rows processed with 0 remaining words\")\n",
    "print(zero_length_lists)"
   ]
  },
  {
   "cell_type": "markdown",
   "id": "1861cc4e-7347-46cd-ae06-45f49111876b",
   "metadata": {},
   "source": [
    "# Additional EDA.  \n",
    "Thats intresting.  All the items that are all stopwords are going to be no an emergency."
   ]
  },
  {
   "cell_type": "code",
   "execution_count": 49,
   "id": "38e526e0-5b4a-44ab-93bd-d350e646191b",
   "metadata": {},
   "outputs": [],
   "source": [
    "# Split the data into train and test sets\n",
    "train_dat = train[['cleaned_text','target']].sample(frac = .9)\n",
    "test_dat = train[['cleaned_text','target']].drop(train_dat.index)"
   ]
  },
  {
   "cell_type": "code",
   "execution_count": 50,
   "id": "45c83554-d800-4f68-9d79-30a1c5cd9658",
   "metadata": {},
   "outputs": [
    {
     "name": "stdout",
     "output_type": "stream",
     "text": [
      "4867\n"
     ]
    }
   ],
   "source": [
    "vocab_dict = {}\n",
    "for item in list(vocab):\n",
    "    vocab_dict[item] = vocab[item]\n",
    "print(len(vocab_dict))"
   ]
  },
  {
   "cell_type": "markdown",
   "id": "b17c0649-e1af-40ff-8d42-3ab6b7b138af",
   "metadata": {},
   "source": [
    "# Vectorizing\n",
    "I used pytorchs internal vectorizer to vectorize the text.  I\n"
   ]
  },
  {
   "cell_type": "code",
   "execution_count": 51,
   "id": "227296e5-b28c-4a61-81c5-d47a90151761",
   "metadata": {},
   "outputs": [],
   "source": [
    "# Dataset Importing from https://pytorch.org/tutorials/beginner/basics/data_tutorial.html?highlight=dataloader\n",
    "\n",
    "#tokenize the text for tensor load\n",
    "def tokenize(text):\n",
    "    # Your tokenizer logic here\n",
    "    return [vocab[token] for token in text.split()]\n",
    "\n",
    "class CustomTextDataset(Dataset):\n",
    "    def __init__(self, data,vocab, transform=None, target_transform=None):\n",
    "        self.data = data\n",
    "        self.vocab = vocab\n",
    "        self.transform = transform\n",
    "        self.target_transform = target_transform\n",
    "        \n",
    "    def __len__(self):\n",
    "        return len(self.data)\n",
    "\n",
    "    def __getitem__(self, idx):\n",
    "        tweet = self.data.iloc[idx, 0]\n",
    "        label = self.data.iloc[idx, 1]\n",
    "        tokenized_tweet = [self.vocab.get(token, 0) for token in tweet]  # Tokenize and handle unknown tokens\n",
    "        tweet_tensor  = torch.tensor(tokenized_tweet, dtype=torch.long)\n",
    "        label_tensor = torch.tensor(label, dtype=torch.float)\n",
    "        \n",
    "        if self.transform:\n",
    "            tweet_tensor = self.transform(tweet_tensor)\n",
    "        if self.target_transform:\n",
    "            label_tensor = self.target_transform(label_tensor)\n",
    "\n",
    "        return tweet_tensor, label_tensor\n",
    "\n",
    "def collate_batch(batch):\n",
    "    label_list, text_list = [], []\n",
    "    for (_text, _label) in batch:\n",
    "        label_list.append(_label)\n",
    "        text_list.append(_text.clone().detach())\n",
    "    return pad_sequence(text_list, batch_first=True), torch.tensor(label_list, dtype=torch.float)\n",
    "\n",
    "# Creating training and validation datasets\n",
    "training_set = CustomTextDataset(train_dat, vocab_dict)\n",
    "validation_set = CustomTextDataset(test_dat, vocab_dict)\n",
    "#test set = CustomTextDataset(val_dat, vocab)\n",
    "\n",
    "# Creating data loaders\n",
    "training_loader = torch.utils.data.DataLoader(training_set, batch_size=32, shuffle=True, collate_fn=collate_batch)\n",
    "validation_loader = torch.utils.data.DataLoader(validation_set, batch_size=32, shuffle=False, collate_fn=collate_batch)\n"
   ]
  },
  {
   "cell_type": "markdown",
   "id": "2a2b0482-3bc0-4937-bc04-21171bef4d13",
   "metadata": {},
   "source": [
    "# Model approach\n",
    "I'm choosing to use a RNN were I only select the last value as the output, so many in and 1 out.  "
   ]
  },
  {
   "cell_type": "markdown",
   "id": "e5090bbb-2db1-4606-bec5-dc878ab4a289",
   "metadata": {},
   "source": []
  },
  {
   "cell_type": "code",
   "execution_count": 52,
   "id": "ca084162-e5c6-4c64-aaf9-ffafc0ccc723",
   "metadata": {},
   "outputs": [],
   "source": [
    "\n",
    "\n",
    "def train_one_epoch(epoch_index, model,training_loader, loss_fn, optimizer, tb_writer):\n",
    "    running_loss = 0.\n",
    "    last_loss = 0.\n",
    "    # Here, we use enumerate(training_loader) instead of\n",
    "    # iter(training_loader) so that we can track the batch\n",
    "    # index and do some intra-epoch reporting\n",
    "    for i, data in enumerate(training_loader):\n",
    "        # Every data instance is an input + label pair\n",
    "        inputs, labels = data\n",
    "        inputs_cuda = inputs.to('cuda')\n",
    "        labels_cuda = labels.to('cuda')\n",
    "\n",
    "        # Zero your gradients for every batch!\n",
    "        optimizer.zero_grad()\n",
    "\n",
    "        # Make predictions for this batch\n",
    "        outputs = model(inputs_cuda)\n",
    "\n",
    "        # Compute the loss and its gradients\n",
    "        loss = loss_fn(outputs, labels_cuda)\n",
    "        loss.backward()\n",
    "\n",
    "        # Adjust learning weights\n",
    "        optimizer.step()\n",
    "\n",
    "        # Gather data and report\n",
    "        running_loss += loss.item()\n",
    "        if i % 10 == 9:\n",
    "            last_loss = running_loss / 1000 # loss per batch\n",
    "            #print('  batch {} loss: {}'.format(i + 1, last_loss))\n",
    "            tb_x = epoch_index * len(training_loader) + i + 1\n",
    "            tb_writer.add_scalar('Loss/train', last_loss, tb_x)\n",
    "            running_loss = 0\n",
    "\n",
    "    return last_loss\n",
    "\n",
    "# test execution\n",
    "#model = Tweets(vocab_size=30000, embedding_dim =1024).to('cuda')\n",
    "#loss_fn = nn.BCEWithLogitsLoss()\n",
    "#optimizer = optim.Adam(model.parameters(), lr=0.001)\n",
    "#tb_writer = SummaryWriter('logs')\n",
    "#train_one_epoch(1,model, training_loader, loss_fn, optimizer, tb_writer)\n",
    "#tb_writer.close()\n",
    "\n",
    "output_data = pd.DataFrame()"
   ]
  },
  {
   "cell_type": "markdown",
   "id": "30e25815-0179-4867-bf2d-87317bd2bbce",
   "metadata": {},
   "source": [
    "Ok, .68 validation loss.  Thats not good.  I'm going to run a optomizer to try and find the optimal variables.\n"
   ]
  },
  {
   "cell_type": "code",
   "execution_count": 53,
   "id": "820470f3-c630-4bb4-a1e0-122323327c25",
   "metadata": {},
   "outputs": [],
   "source": [
    "# Plot the DataFrame\n",
    "def plot_vals(df, title, result_text):\n",
    "    #df = df.set_index('epoch')\n",
    "    df = df.sort_index() \n",
    "    plt.figure(figsize=(10, 6))\n",
    "    plt.plot(df['epoch'], df['val_loss'], label='Validation Loss')\n",
    "    plt.plot(df['epoch'], df['val_f1'], label='Validation F1')\n",
    "    plt.title(title)\n",
    "    plt.text(3, .25, result_text)\n",
    "    plt.xlabel('Epoch')\n",
    "    plt.ylabel('Loss/F1')\n",
    "    plt.legend()\n",
    "    plt.show()\n",
    "\n",
    "def multi_plot_vals(df, title, result_text, run_range):\n",
    "    fig, axes = plt.subplots(len(run_range), 1, figsize=(10, 6 * len(run_range)), sharex=True)\n",
    "    \n",
    "    if len(run_range) == 1:\n",
    "        axes = [axes]  # Make it iterable if there's only one plot\n",
    "    \n",
    "    for ax, run in zip(axes, run_range):\n",
    "        data = df[df['run'] == run]\n",
    "        ax.plot(data['epoch'], data['val_loss'], label='Validation Loss')\n",
    "        ax.plot(data['epoch'], data['val_f1'], label='Validation F1')\n",
    "        ax.set_title(f\"{title} (Run {run})\")\n",
    "        ax.set_xlabel('Epoch')\n",
    "        ax.set_ylabel('Loss/F1')\n",
    "        ax.legend()\n",
    "    \n",
    "    plt.suptitle(title)\n",
    "    fig.text(0.5, 0.02, result_text, ha='center')\n",
    "    plt.tight_layout(rect=[0, 0.03, 1, 0.95])\n",
    "    plt.show()"
   ]
  },
  {
   "cell_type": "code",
   "execution_count": 54,
   "id": "a65f7ffd-cba2-453d-a940-670aac21f118",
   "metadata": {},
   "outputs": [],
   "source": [
    "best_global_vloss = 1\n",
    "output_data = pd.DataFrame(columns = [\"run\", \"train_loss\", \"val_loss\", \"val_f1\"])\n",
    "# Initializing in a separate cell so we can easily add more epochs to the same run\n",
    "def run_model(model, epochs, output_data, run_num):\n",
    "    loss_fn = nn.BCEWithLogitsLoss()\n",
    "    optimizer = optim.Adam(model.parameters(), lr=0.0005)\n",
    "    \n",
    "    timestamp = datetime.now(timezone.utc).strftime('%Y%m%d_%H%M%S')\n",
    "    writer = SummaryWriter('runs/fashion_trainer_{}'.format(timestamp))\n",
    "    \n",
    "    epoch_number = 0\n",
    "    \n",
    "    best_vloss = 1.\n",
    "    best_vf1 = 0\n",
    "    best_vf1_count = 0\n",
    "    \n",
    "    for epoch in range(epochs):\n",
    "        #print('EPOCH {}:'.format(epoch_number + 1))\n",
    "    \n",
    "        # Make sure gradient tracking is on, and do a pass over the data\n",
    "        model.train(True)\n",
    "        avg_loss = train_one_epoch(epoch_number,model, training_loader, loss_fn, optimizer, writer)\n",
    "        \n",
    "    \n",
    "        running_vloss = 0.0\n",
    "        running_vf1 = 0.0\n",
    "        # Set the model to evaluation mode, disabling dropout and using population\n",
    "        # statistics for batch normalization.\n",
    "        model.eval()\n",
    "        # Disable gradient computation and reduce memory consumption.\n",
    "        with torch.no_grad():\n",
    "            for i, vdata in enumerate(validation_loader):\n",
    "                vinputs, vlabels = vdata\n",
    "                vinputs_cuda = vinputs.to('cuda')\n",
    "                vlabels_cuda = vlabels.to('cuda')\n",
    "                voutputs = model(vinputs_cuda)\n",
    "                vloss = loss_fn(voutputs, vlabels_cuda)\n",
    "                vf1 = binary_f1_score(voutputs, vlabels_cuda)\n",
    "                running_vloss += vloss\n",
    "                running_vf1 += vf1.item()\n",
    "                \n",
    "        avg_vloss = running_vloss / (i + 1)\n",
    "        avg_vf1 = running_vf1 / (i + 1)\n",
    "        #print('LOSS train {} valid {} Binary F1 {}'.format(avg_loss, avg_vloss, avg_vf1))\n",
    "        \n",
    "        # Log the running loss averaged per batch\n",
    "        # for both training and validation\n",
    "        writer.add_scalars('Training vs. Validation Loss',\n",
    "                        { 'Training' : avg_loss, 'Validation' : avg_vloss},\n",
    "                        epoch_number + 1)\n",
    "        writer.flush()\n",
    "        new_row = {\n",
    "            \"run\": run_num,\n",
    "            \"epoch\": epoch_number,\n",
    "            \"train_loss\": avg_loss,\n",
    "            \"val_loss\": avg_vloss.item(),\n",
    "            \"val_f1\": avg_vf1\n",
    "        }\n",
    "        output_data = pd.concat([output_data, pd.DataFrame([new_row])], ignore_index = True)\n",
    "        # Track best performance, and save the model's state\n",
    "        global best_global_vloss\n",
    "        global best_model_params\n",
    "        if avg_vloss < best_vloss:\n",
    "            best_vloss = avg_vloss\n",
    "        if avg_vloss < best_global_vloss:\n",
    "            model_path = 'best_model.model'\n",
    "            best_global_vloss = avg_vloss\n",
    "            torch.save(model.state_dict(), model_path)\n",
    "        #Calculate Best VAccuracy\n",
    "        if best_vf1 < avg_vf1:\n",
    "            best_vf1 = avg_vf1\n",
    "            best_vf1_count = 0\n",
    "        else: \n",
    "            best_vf1_count += 1\n",
    "\n",
    "        #Cutoff the model if the VACC goest down after 2 cycles\n",
    "        #if best_vacc_count == 3:\n",
    "            #break\n",
    "        \n",
    "        epoch_number += 1\n",
    "    result_text = f'Best Validation Loss: {best_vloss}  Best Validation F1: {best_vf1}'\n",
    "\n",
    "\n",
    "    torch.cuda.empty_cache()\n",
    "    return (output_data, result_text)"
   ]
  },
  {
   "cell_type": "code",
   "execution_count": 55,
   "id": "9a443764-d66c-45fa-8d15-d3cb05df622c",
   "metadata": {},
   "outputs": [],
   "source": [
    "# Initial Setup\n",
    "best_model_params = []\n",
    "class Tweets_RNN(nn.Module):\n",
    "    def __init__(self, vocab_size, embedding_dim, hidden_size, num_layers, nonlinearity):\n",
    "        super(Tweets_RNN, self).__init__()\n",
    "        self.embedding = nn.Embedding(vocab_size, embedding_dim)\n",
    "        self.rnn_layer = nn.RNN(input_size=embedding_dim, hidden_size=hidden_size, num_layers=num_layers,\n",
    "                                nonlinearity=nonlinearity, bias=True, bidirectional=True)\n",
    "        # Add TanH Layer\n",
    "        \n",
    "        self.dropout = nn.Dropout(p=.75)\n",
    "        #self.relu = nn.ReLU()\n",
    "        self.linear = nn.Linear(hidden_size * 2, 1)\n",
    "        # Step Down linear layers?\n",
    "        #self.output_layer = nn.Linear(hidden_size, 1)\n",
    "\n",
    "    def forward(self, input_text):\n",
    "        # Assuming input_text is already a LongTensor that has been prepared outside the model\n",
    "        embedded = self.embedding(input_text)\n",
    "        rnn_output, _ = self.rnn_layer(embedded)\n",
    "        dropout = self.dropout(rnn_output)\n",
    "        output = dropout[:, :, :]\n",
    "        linear = self.linear(output)\n",
    "        final_output = linear.mean(dim=1)\n",
    "        #print(final_output.shape)\n",
    "        return final_output.squeeze()  # Squeeze to remove the extra dimension\n"
   ]
  },
  {
   "cell_type": "code",
   "execution_count": null,
   "id": "d8aab295-5a3b-41e9-bf5f-ff9ad7ce896d",
   "metadata": {},
   "outputs": [],
   "source": [
    "\n",
    "run_num = 1\n",
    "embedding_dim = 64\n",
    "hidden_size = 512\n",
    "num_layers = 1\n",
    "nonlinearity = 'relu'\n",
    "#\n",
    "model = Tweets_RNN(vocab_size=len(vocab_dict), embedding_dim = embedding_dim,\n",
    "                   hidden_size = hidden_size, num_layers= num_layers,\n",
    "                   nonlinearity = nonlinearity\n",
    "                  ).to('cuda')\n",
    "\n",
    "\n",
    "output_data, result_text = run_model(epochs = 40, model = model, \n",
    "                output_data = output_data,\n",
    "                run_num = run_num)\n"
   ]
  },
  {
   "cell_type": "code",
   "execution_count": null,
   "id": "ba93d603-6e6f-4bed-9ae2-63e26af069b9",
   "metadata": {},
   "outputs": [],
   "source": [
    "title = (f\"Basic RNN: \\nEmbedding Dim: {embedding_dim}\\n\"\n",
    "f\"#Hidden RNN Layers: {num_layers}\\n\"\n",
    "f\"Size of RNN Hidden Layers {hidden_size}\\n\"\n",
    "f\"RNN Nonlinearity: {nonlinearity}\")\n",
    "\n",
    "plot_vals(output_data[output_data['run'] == run_num], title, result_text)"
   ]
  },
  {
   "cell_type": "code",
   "execution_count": null,
   "id": "9acc7dec-166b-4e58-b538-b025a0e02d00",
   "metadata": {},
   "outputs": [],
   "source": [
    "class Tweets_LSTM(nn.Module):\n",
    "    def __init__(self, vocab_size, embedding_dim, hidden_size, bias, num_layers, dropout):\n",
    "        super(Tweets_LSTM, self).__init__()\n",
    "        self.embedding = nn.Embedding(vocab_size, embedding_dim)\n",
    "        self.lstm_layer = nn.LSTM(input_size=embedding_dim, hidden_size=hidden_size, \n",
    "                                  num_layers=num_layers,bias = True,\n",
    "                                  bidirectional=True, dropout = dropout)\n",
    "        # Add TanH Layer\n",
    "        \n",
    "        self.dropout = nn.Dropout(p=.75)\n",
    "        #self.relu = nn.ReLU()\n",
    "        self.linear = nn.Linear(hidden_size * 2, 1)\n",
    "        # Step Down linear layers?\n",
    "        #self.output_layer = nn.Linear(hidden_size, 1)\n",
    "\n",
    "    def forward(self, input_text):\n",
    "        # Assuming input_text is already a LongTensor that has been prepared outside the model\n",
    "        embedded = self.embedding(input_text)\n",
    "        lstm_output, _ = self.lstm_layer(embedded)\n",
    "        dropout = self.dropout(lstm_output)\n",
    "        output = dropout[:, :, :]\n",
    "        linear = self.linear(output)\n",
    "        final_output = linear.mean(dim=1)\n",
    "        #print(final_output.shape)\n",
    "        return final_output.squeeze()  # Squeeze to remove the extra dimension"
   ]
  },
  {
   "cell_type": "code",
   "execution_count": null,
   "id": "7cdc04e6-f105-40ae-b45e-0427741369c9",
   "metadata": {},
   "outputs": [],
   "source": [
    "\n",
    "run_num = 2\n",
    "#embedding_dim = 256\n",
    "#hidden_size = 512\n",
    "#num_layers = 1\n",
    "\n",
    "model = Tweets_LSTM(vocab_size=len(vocab_dict), \n",
    "                    embedding_dim = embedding_dim,\n",
    "                    hidden_size = hidden_size, \n",
    "                    num_layers= num_layers, \n",
    "                    dropout = 0.5, bias = True\n",
    "                  ).to('cuda')\n",
    "\n",
    "output_data, result_text = run_model(epochs = 40, model = model, \n",
    "                output_data = output_data,\n",
    "                run_num = run_num)\n"
   ]
  },
  {
   "cell_type": "code",
   "execution_count": null,
   "id": "dd829015-571b-4512-846e-2705d4556070",
   "metadata": {},
   "outputs": [],
   "source": [
    "title = (f\"Basic LSTM: \\nEmbedding Dim: {embedding_dim}\\n\"\n",
    "f\"#Hidden RNN Layers: {num_layers}\\n\"\n",
    "f\"Size of RNN Hidden Layers {hidden_size}\\n\")\n",
    "\n",
    "plot_vals(output_data[output_data['run'] == run_num], title, result_text)"
   ]
  },
  {
   "cell_type": "code",
   "execution_count": null,
   "id": "411c7748-bee2-4f12-828e-9cebe830725e",
   "metadata": {},
   "outputs": [],
   "source": [
    "class Tweets_GRU(nn.Module):\n",
    "    def __init__(self, vocab_size, embedding_dim, hidden_size, bias, num_layers, dropout):\n",
    "        super(Tweets_GRU, self).__init__()\n",
    "        self.embedding = nn.Embedding(vocab_size, embedding_dim)\n",
    "        self.GRU_layer = nn.GRU(input_size=embedding_dim, hidden_size=hidden_size, \n",
    "                                  num_layers=num_layers,bias = True,\n",
    "                                  bidirectional=True, dropout = dropout)\n",
    "        # Add TanH Layer\n",
    "        \n",
    "        self.dropout = nn.Dropout(p=.75)\n",
    "        #self.relu = nn.ReLU()\n",
    "        self.linear = nn.Linear(hidden_size * 2, 1)\n",
    "        # Step Down linear layers?\n",
    "        #self.output_layer = nn.Linear(hidden_size, 1)\n",
    "\n",
    "    def forward(self, input_text):\n",
    "        # Assuming input_text is already a LongTensor that has been prepared outside the model\n",
    "        embedded = self.embedding(input_text)\n",
    "        gru_output, _ = self.GRU_layer(embedded)\n",
    "        dropout = self.dropout(gru_output)\n",
    "        output = dropout[:, :, :]\n",
    "        linear = self.linear(output)\n",
    "        final_output = linear.mean(dim=1)\n",
    "        #print(final_output.shape)\n",
    "        return final_output.squeeze()  # Squeeze to remove the extra dimension"
   ]
  },
  {
   "cell_type": "code",
   "execution_count": null,
   "id": "3cd7feb8-64ad-48ef-8aaa-e494dd6ec7c6",
   "metadata": {},
   "outputs": [],
   "source": [
    "run_num = 3\n",
    "#embedding_dim = 32\n",
    "#hidden_size = 32\n",
    "#num_layers = 1\n",
    "\n",
    "model = Tweets_GRU(vocab_size=len(vocab_dict), \n",
    "                    embedding_dim = embedding_dim,\n",
    "                    hidden_size = hidden_size, \n",
    "                    num_layers= num_layers, \n",
    "                    dropout = 0.5, bias = True\n",
    "                  ).to('cuda')\n",
    "\n",
    "title = f\"Basic GRU: \\nEmbedding Dim: {embedding_dim}\\n\"\n",
    "f\"#Hidden RNN Layers: {num_layers}\\n\"\n",
    "f\"Size of RNN Hidden Layers {hidden_size}\\n\"\n",
    "f\"RNN Nonlinearity: {nonlinearity}\"\n",
    "\n",
    "output_data, result_text = run_model(epochs = 40, model = model, \n",
    "                output_data = output_data,\n",
    "                run_num = run_num)\n"
   ]
  },
  {
   "cell_type": "code",
   "execution_count": null,
   "id": "01998ec0-63bc-42be-9072-d68d77b628a7",
   "metadata": {},
   "outputs": [],
   "source": [
    "title = (f\"Basic GRU: \\nEmbedding Dim: {embedding_dim}\\n\"\n",
    "f\"#Hidden RNN Layers: {num_layers}\\n\"\n",
    "f\"Size of RNN Hidden Layers {hidden_size}\\n\")\n",
    "plot_vals(output_data[output_data['run'] == run_num], title, result_text)"
   ]
  },
  {
   "cell_type": "markdown",
   "id": "971f9567-8c6c-4a03-a785-d77f63b85331",
   "metadata": {},
   "source": [
    "# Initial Results\n",
    "I will continue with the RNN. The similarity of the results leads me to believe that there could be some flaws with my algorithim. \n",
    "I will try tuning the number of hidden layers first, then the other variables\n"
   ]
  },
  {
   "cell_type": "code",
   "execution_count": null,
   "id": "e9fdc56c-b8aa-46c0-acf2-68a3afe65772",
   "metadata": {},
   "outputs": [],
   "source": [
    "run_num = 4\n",
    "embedding_dim = 64\n",
    "hidden_size = 512\n",
    "num_layers = 2\n",
    "\n",
    "model = Tweets_GRU(vocab_size=len(vocab_dict), \n",
    "                    embedding_dim = embedding_dim,\n",
    "                    hidden_size = hidden_size, \n",
    "                    num_layers= num_layers, \n",
    "                    dropout = 0.5, bias = True\n",
    "                  ).to('cuda')\n",
    "\n",
    "\n",
    "output_data, result_text = run_model(epochs = 40, model = model, \n",
    "                output_data = output_data,\n",
    "                run_num = run_num)"
   ]
  },
  {
   "cell_type": "code",
   "execution_count": null,
   "id": "e03bf477-939c-47ab-a193-3e131d20ce29",
   "metadata": {},
   "outputs": [],
   "source": [
    "title = (f\"GRU: \\nEmbedding Dim: {embedding_dim}\\n\"\n",
    "f\"#Hidden RNN Layers: {num_layers}\\n\"\n",
    "f\"Size of RNN Hidden Layers {hidden_size}\\n\")\n",
    "plot_vals(output_data[output_data['run'] == run_num], title, result_text)"
   ]
  },
  {
   "cell_type": "markdown",
   "id": "cc3c5de2-f9f4-4ddd-a3e4-3f586f728095",
   "metadata": {},
   "source": [
    "# Results of increasing layers\n",
    "This is not an improvement.  I'll try tuning the embedding dim and hidden layer size.\n",
    "\n",
    "# Redefining the GRU class.\n",
    "As I found that I only need 1 layer ATM, the dropout layer causes an error I want to get rid of.\n",
    "\n",
    "### Note\n",
    "I wont graph all of them, I'll just print the overall results of each run."
   ]
  },
  {
   "cell_type": "code",
   "execution_count": 36,
   "id": "90029cc6-69f6-4a14-9c09-2ee490ab2755",
   "metadata": {},
   "outputs": [],
   "source": [
    "class Tweets_GRU(nn.Module):\n",
    "    def __init__(self, vocab_size, embedding_dim, hidden_size, bias, num_layers, dropout):\n",
    "        super(Tweets_GRU, self).__init__()\n",
    "        self.embedding = nn.Embedding(vocab_size, embedding_dim)\n",
    "        self.GRU_layer = nn.GRU(input_size=embedding_dim, hidden_size=hidden_size, \n",
    "                                  num_layers=num_layers,bias = True,\n",
    "                                  bidirectional=True)\n",
    "        # Add TanH Layer\n",
    "        \n",
    "        self.dropout = nn.Dropout(p=.75)\n",
    "        #self.relu = nn.ReLU()\n",
    "        self.linear = nn.Linear(hidden_size * 2, 1)\n",
    "        # Step Down linear layers?\n",
    "        #self.output_layer = nn.Linear(hidden_size, 1)\n",
    "\n",
    "    def forward(self, input_text):\n",
    "        # Assuming input_text is already a LongTensor that has been prepared outside the model\n",
    "        embedded = self.embedding(input_text)\n",
    "        gru_output, _ = self.GRU_layer(embedded)\n",
    "        dropout = self.dropout(gru_output)\n",
    "        output = dropout[:, :, :]\n",
    "        linear = self.linear(output)\n",
    "        final_output = linear.mean(dim=1)\n",
    "        #print(final_output.shape)\n",
    "        return final_output.squeeze()  # Squeeze to remove the extra dimension"
   ]
  },
  {
   "cell_type": "code",
   "execution_count": 39,
   "id": "453cb453-5aab-42de-8137-9871e7e3e123",
   "metadata": {},
   "outputs": [
    {
     "name": "stdout",
     "output_type": "stream",
     "text": [
      "Embedding_dim: 32  Hidden Layer Size: 32  Best Validation Loss: 0.5559661388397217  Best Validation F1: 0.5306951167682806\n",
      "Embedding_dim: 32  Hidden Layer Size: 64  Best Validation Loss: 0.5524897575378418  Best Validation F1: 0.541310504078865\n",
      "Embedding_dim: 32  Hidden Layer Size: 128  Best Validation Loss: 0.5518113374710083  Best Validation F1: 0.5829955774048964\n",
      "Embedding_dim: 32  Hidden Layer Size: 256  Best Validation Loss: 0.5473372340202332  Best Validation F1: 0.5666585378348827\n",
      "Embedding_dim: 32  Hidden Layer Size: 512  Best Validation Loss: 0.5490719079971313  Best Validation F1: 0.5771563984453678\n",
      "Embedding_dim: 32  Hidden Layer Size: 1024  Best Validation Loss: 0.5451291799545288  Best Validation F1: 0.600481936087211\n",
      "Embedding_dim: 64  Hidden Layer Size: 32  Best Validation Loss: 0.5570382475852966  Best Validation F1: 0.588178027421236\n",
      "Embedding_dim: 64  Hidden Layer Size: 64  Best Validation Loss: 0.5527030825614929  Best Validation F1: 0.5576499005158743\n",
      "Embedding_dim: 64  Hidden Layer Size: 128  Best Validation Loss: 0.5458099246025085  Best Validation F1: 0.5777130549152693\n",
      "Embedding_dim: 64  Hidden Layer Size: 256  Best Validation Loss: 0.5512412786483765  Best Validation F1: 0.5903767781953017\n",
      "Embedding_dim: 64  Hidden Layer Size: 512  Best Validation Loss: 0.5494980216026306  Best Validation F1: 0.5805562275151411\n",
      "Embedding_dim: 64  Hidden Layer Size: 1024  Best Validation Loss: 0.5460779666900635  Best Validation F1: 0.6036333739757538\n",
      "Embedding_dim: 128  Hidden Layer Size: 32  Best Validation Loss: 0.560497522354126  Best Validation F1: 0.5485614115993181\n",
      "Embedding_dim: 128  Hidden Layer Size: 64  Best Validation Loss: 0.5514905452728271  Best Validation F1: 0.5629805761078993\n",
      "Embedding_dim: 128  Hidden Layer Size: 128  Best Validation Loss: 0.5498878955841064  Best Validation F1: 0.5630420384307703\n",
      "Embedding_dim: 128  Hidden Layer Size: 256  Best Validation Loss: 0.549594521522522  Best Validation F1: 0.5789376758038998\n",
      "Embedding_dim: 128  Hidden Layer Size: 512  Best Validation Loss: 0.5501484274864197  Best Validation F1: 0.5903122449914614\n",
      "Embedding_dim: 128  Hidden Layer Size: 1024  Best Validation Loss: 0.549248456954956  Best Validation F1: 0.5885582007467747\n",
      "Embedding_dim: 256  Hidden Layer Size: 32  Best Validation Loss: 0.5645378828048706  Best Validation F1: 0.5393863394856453\n",
      "Embedding_dim: 256  Hidden Layer Size: 64  Best Validation Loss: 0.5584241151809692  Best Validation F1: 0.5470473853250345\n",
      "Embedding_dim: 256  Hidden Layer Size: 128  Best Validation Loss: 0.5503160953521729  Best Validation F1: 0.5655413344502449\n",
      "Embedding_dim: 256  Hidden Layer Size: 256  Best Validation Loss: 0.5464699268341064  Best Validation F1: 0.5810217844943205\n",
      "Embedding_dim: 256  Hidden Layer Size: 512  Best Validation Loss: 0.5454525947570801  Best Validation F1: 0.5946074016392231\n",
      "Embedding_dim: 256  Hidden Layer Size: 1024  Best Validation Loss: 0.5437309741973877  Best Validation F1: 0.6004566761354605\n",
      "Run Number: 29\n"
     ]
    }
   ],
   "source": [
    "run_num = 5\n",
    "num_layers = 1\n",
    "embedding_dim_list = [32,64,128,256]\n",
    "hidden_size_list = [32,64,128,256,512,1024]\n",
    "for embedding_dim in embedding_dim_list:\n",
    "    for hidden_size in hidden_size_list:\n",
    "        model = Tweets_GRU(vocab_size=len(vocab_dict), \n",
    "                    embedding_dim = embedding_dim,\n",
    "                    hidden_size = hidden_size, \n",
    "                    num_layers= num_layers, \n",
    "                    dropout = 0.5, bias = True\n",
    "                  ).to('cuda')\n",
    "\n",
    "        output_data, result_text = run_model(epochs = 40, \n",
    "                                            model = model, \n",
    "                                            output_data = output_data,\n",
    "                                            run_num = run_num)\n",
    "        print(f'Embedding_dim: {embedding_dim}  '\n",
    "              f'Hidden Layer Size: {hidden_size}  '\n",
    "              f'{result_text}')\n",
    "        run_num += 1\n",
    "\n",
    "print(f'Run Number: {run_num}')\n"
   ]
  },
  {
   "cell_type": "markdown",
   "id": "51bdab87-e9a2-449e-8ea6-293ccae9c99d",
   "metadata": {},
   "source": [
    "# Results and next steps\n",
    "It looks like the embedding Dim or the size of the vectors to encode my text is optimal at around 64.  After this, I think I will need to take a look at more structural fixes with the model.  I will test with a larger set of hidden layer sizes, 2048-8192.\n"
   ]
  },
  {
   "cell_type": "code",
   "execution_count": 41,
   "id": "659aee9b-5e90-4325-b13f-96e4b261efd9",
   "metadata": {},
   "outputs": [
    {
     "name": "stdout",
     "output_type": "stream",
     "text": [
      "Embedding_dim: 64  Hidden Layer Size: 2048  Best Validation Loss: 0.546570897102356  Best Validation F1: 0.5918081191678842\n",
      "Embedding_dim: 64  Hidden Layer Size: 4096  Best Validation Loss: 0.5529024600982666  Best Validation F1: 0.6169312795003256\n",
      "Embedding_dim: 64  Hidden Layer Size: 8192  Best Validation Loss: 0.5562137365341187  Best Validation F1: 0.6217939406633377\n",
      "Run Number: 33\n"
     ]
    }
   ],
   "source": [
    "run_num = 30\n",
    "num_layers = 1\n",
    "hidden_size_list = [2048, 4096, 8192]\n",
    "embedding_dim = 64\n",
    "for hidden_size in hidden_size_list:\n",
    "    model = Tweets_GRU(vocab_size=len(vocab_dict), \n",
    "                embedding_dim = embedding_dim,\n",
    "                hidden_size = hidden_size, \n",
    "                num_layers= num_layers, \n",
    "                dropout = 0.5, bias = True\n",
    "              ).to('cuda')\n",
    "\n",
    "    output_data, result_text = run_model(epochs = 40, \n",
    "                                        model = model, \n",
    "                                        output_data = output_data,\n",
    "                                        run_num = run_num)\n",
    "    print(f'Embedding_dim: {embedding_dim}  '\n",
    "          f'Hidden Layer Size: {hidden_size}  '\n",
    "          f'{result_text}')\n",
    "    run_num += 1\n",
    "\n",
    "print(f'Run Number: {run_num}')\n"
   ]
  },
  {
   "cell_type": "markdown",
   "id": "b1e940d7-a1c3-4dc5-b870-1d05c4f342c1",
   "metadata": {},
   "source": [
    "Ok, I'm going to continue with 512 a hidden layer size of 512. This is due to the acceptable performance and the extreme processing time. of anything larger.  I just can't wait for 15-20 minutes for size 8192 to train each time.\n",
    "\n",
    "Now I'm going to set up a TANH or RELU layer after the output of the RNN before the dense layer.  I'm doing this as a holdover from Keras where each layer had an output layer after it.\n"
   ]
  },
  {
   "cell_type": "code",
   "execution_count": 43,
   "id": "601e4846-c3f1-47a8-b18e-f1bde7fa6969",
   "metadata": {},
   "outputs": [],
   "source": [
    "class Tweets_GRU(nn.Module):\n",
    "    def __init__(self, vocab_size, embedding_dim, hidden_size, bias, num_layers, dropout):\n",
    "        super(Tweets_GRU, self).__init__()\n",
    "        self.embedding = nn.Embedding(vocab_size, embedding_dim)\n",
    "        self.GRU_layer = nn.GRU(input_size=embedding_dim, hidden_size=hidden_size, \n",
    "                                  num_layers=num_layers,bias = True,\n",
    "                                  bidirectional=True)\n",
    "        # Add TanH Layer\n",
    "        self.tanh_layer = nn.Tanh()\n",
    "        self.dropout = nn.Dropout(p=.75)\n",
    "        #self.relu = nn.ReLU()\n",
    "        self.linear = nn.Linear(hidden_size * 2, 1)\n",
    "        # Step Down linear layers?\n",
    "        #self.output_layer = nn.Linear(hidden_size, 1)\n",
    "\n",
    "    def forward(self, input_text):\n",
    "        # Assuming input_text is already a LongTensor that has been prepared outside the model\n",
    "        embedded = self.embedding(input_text)\n",
    "        gru_output, _ = self.GRU_layer(embedded)\n",
    "        tanh_output = self.tanh_layer(gru_output)\n",
    "        dropout = self.dropout(tanh_output)\n",
    "        output = dropout[:, :, :]\n",
    "        linear = self.linear(output)\n",
    "        final_output = linear.mean(dim=1)\n",
    "        #print(final_output.shape)\n",
    "        return final_output.squeeze()  # Squeeze to remove the extra dimension"
   ]
  },
  {
   "cell_type": "code",
   "execution_count": 46,
   "id": "fdfbabc6-7e2b-4195-b6a0-57f422ce3d7e",
   "metadata": {},
   "outputs": [
    {
     "name": "stdout",
     "output_type": "stream",
     "text": [
      "Embedding_dim: 64  Hidden Layer Size: 512  Best Validation Loss: 0.5449671745300293  Best Validation F1: 0.6007105223834515\n"
     ]
    }
   ],
   "source": [
    "run_num = 35\n",
    "num_layers = 1\n",
    "hidden_size = 512\n",
    "embedding_dim = 64\n",
    "\n",
    "model = Tweets_GRU(vocab_size=len(vocab_dict), \n",
    "            embedding_dim = embedding_dim,\n",
    "            hidden_size = hidden_size, \n",
    "            num_layers= num_layers, \n",
    "            dropout = 0.5, bias = True\n",
    "          ).to('cuda')\n",
    "\n",
    "output_data, result_text = run_model(epochs = 40, \n",
    "                                    model = model, \n",
    "                                    output_data = output_data,\n",
    "                                    run_num = run_num)\n",
    "print(f'Embedding_dim: {embedding_dim}  '\n",
    "      f'Hidden Layer Size: {hidden_size}  '\n",
    "      f'{result_text}')\n"
   ]
  },
  {
   "cell_type": "markdown",
   "id": "f84a8b26-c858-4c80-832b-ac988b835419",
   "metadata": {},
   "source": [
    "# Marginally Worse\n",
    "This is marginally worse than my initial setup and attempts\n",
    "\n",
    "# Eliminating the Dropout Layer\n",
    "As a stupidity, I'm going to see what happens when I eliminate the dropout layer."
   ]
  },
  {
   "cell_type": "code",
   "execution_count": 47,
   "id": "e0c9b12f-d8ed-4dfe-a2fb-d7b37c16bd2c",
   "metadata": {},
   "outputs": [],
   "source": [
    "class Tweets_GRU(nn.Module):\n",
    "    def __init__(self, vocab_size, embedding_dim, hidden_size, bias, num_layers, dropout):\n",
    "        super(Tweets_GRU, self).__init__()\n",
    "        self.embedding = nn.Embedding(vocab_size, embedding_dim)\n",
    "        self.GRU_layer = nn.GRU(input_size=embedding_dim, hidden_size=hidden_size, \n",
    "                                  num_layers=num_layers,bias = True,\n",
    "                                  bidirectional=True)\n",
    "        # Add TanH Layer\n",
    "        self.dropout = nn.Dropout(p=.75)\n",
    "        #self.relu = nn.ReLU()\n",
    "        self.linear = nn.Linear(hidden_size * 2, 1)\n",
    "\n",
    "        \n",
    "        # Step Down linear layers?\n",
    "        #self.output_layer = nn.Linear(hidden_size, 1)\n",
    "\n",
    "    def forward(self, input_text):\n",
    "        # Assuming input_text is already a LongTensor that has been prepared outside the model\n",
    "        embedded = self.embedding(input_text)\n",
    "        gru_output, _ = self.GRU_layer(embedded)\n",
    "        #dropout = self.dropout(gru_output)\n",
    "        #output = dropout[:, :, :]\n",
    "        linear = self.linear(gru_output)\n",
    "        final_output = linear.mean(dim=1)\n",
    "        #print(final_output.shape)\n",
    "        return final_output.squeeze()  # Squeeze to remove the extra dimension"
   ]
  },
  {
   "cell_type": "code",
   "execution_count": 48,
   "id": "a048d8f6-73d7-4ede-bfa8-d8572cb90ba8",
   "metadata": {},
   "outputs": [
    {
     "name": "stdout",
     "output_type": "stream",
     "text": [
      "Embedding_dim: 64  Hidden Layer Size: 512  Best Validation Loss: 0.5487644076347351  Best Validation F1: 0.592273760586977\n"
     ]
    }
   ],
   "source": [
    "run_num = 35\n",
    "num_layers = 1\n",
    "hidden_size = 512\n",
    "embedding_dim = 64\n",
    "\n",
    "model = Tweets_GRU(vocab_size=len(vocab_dict), \n",
    "            embedding_dim = embedding_dim,\n",
    "            hidden_size = hidden_size, \n",
    "            num_layers= num_layers, \n",
    "            dropout = 0.5, bias = True\n",
    "          ).to('cuda')\n",
    "\n",
    "output_data, result_text = run_model(epochs = 40, \n",
    "                                    model = model, \n",
    "                                    output_data = output_data,\n",
    "                                    run_num = run_num)\n",
    "print(f'Embedding_dim: {embedding_dim}  '\n",
    "      f'Hidden Layer Size: {hidden_size}  '\n",
    "      f'{result_text}')\n"
   ]
  },
  {
   "cell_type": "markdown",
   "id": "2b72769c-09af-4d68-a4be-eb5422dd69b9",
   "metadata": {},
   "source": [
    "# Expanding the limear layers\n",
    "I'm going to expand to a stacked linear output layers 1024-256-64-16-4."
   ]
  },
  {
   "cell_type": "code",
   "execution_count": 55,
   "id": "36023c6c-5ab9-4239-a3d9-e08187d99016",
   "metadata": {},
   "outputs": [],
   "source": [
    "class Tweets_GRU(nn.Module):\n",
    "    def __init__(self, vocab_size, embedding_dim, hidden_size, bias, num_layers, dropout):\n",
    "        super(Tweets_GRU, self).__init__()\n",
    "        self.embedding = nn.Embedding(vocab_size, embedding_dim)\n",
    "        self.GRU_layer = nn.GRU(input_size=embedding_dim, hidden_size=hidden_size, \n",
    "                                  num_layers=num_layers,bias = True,\n",
    "                                  bidirectional=True)\n",
    "\n",
    "        self.dropout = nn.Dropout(p=.75)\n",
    "        #self.tanh = nn.Tanh()\n",
    "        self.linear = nn.Linear(hidden_size * 2, 256)\n",
    "        self.linear_256 = nn.Linear(256, 64)\n",
    "        self.linear_64 = nn.Linear(64,16)\n",
    "        self.linear_16 = nn.Linear(16,4)\n",
    "        self.linear_4 = nn.Linear(4,1)\n",
    "        \n",
    "        # Step Down linear layers?\n",
    "        #self.output_layer = nn.Linear(hidden_size, 1)\n",
    "\n",
    "    def forward(self, input_text):\n",
    "        # Assuming input_text is already a LongTensor that has been prepared outside the model\n",
    "        embedded = self.embedding(input_text)\n",
    "        gru_output, _ = self.GRU_layer(embedded)\n",
    "        linear = self.linear(gru_output)\n",
    "        linear_256 = self.linear_256(linear)\n",
    "        linear_64 = self.linear_64(linear_256)\n",
    "        linear_16 = self.linear_16(linear_64)\n",
    "        linear_4 = self.linear_4(linear_16)\n",
    "        \n",
    "        final_output = linear_4.mean(dim=1)\n",
    "        #print(final_output.shape)\n",
    "        return final_output.squeeze()  # Squeeze to remove the extra dimension"
   ]
  },
  {
   "cell_type": "code",
   "execution_count": 56,
   "id": "c24ebf77-6f8c-4d04-a0f3-ea19c732a53e",
   "metadata": {},
   "outputs": [
    {
     "name": "stdout",
     "output_type": "stream",
     "text": [
      "Embedding_dim: 64  Hidden Layer Size: 512  Best Validation Loss: 0.5381141901016235  Best Validation F1: 0.5994043747584025\n"
     ]
    }
   ],
   "source": [
    "run_num = 35\n",
    "num_layers = 1\n",
    "hidden_size = 512\n",
    "embedding_dim = 64\n",
    "\n",
    "model = Tweets_GRU(vocab_size=len(vocab_dict), \n",
    "            embedding_dim = embedding_dim,\n",
    "            hidden_size = hidden_size, \n",
    "            num_layers= num_layers, \n",
    "            dropout = 0.5, bias = True\n",
    "          ).to('cuda')\n",
    "\n",
    "output_data, result_text = run_model(epochs = 40, \n",
    "                                    model = model, \n",
    "                                    output_data = output_data,\n",
    "                                    run_num = run_num)\n",
    "print(f'Embedding_dim: {embedding_dim}  '\n",
    "      f'Hidden Layer Size: {hidden_size}  '\n",
    "      f'{result_text}')\n"
   ]
  },
  {
   "cell_type": "markdown",
   "id": "0bd67b24-a2bc-4ac0-b4d8-decd66807153",
   "metadata": {},
   "source": [
    "# A slight improvement\n",
    "I'm not happy with this result, but it is a slight improvement.  I'm going to try to put a Tanh Layer between each dense layer.  Failing that, I'm going to send this project.  I'm not sure where I went wrong, but I'm out of time."
   ]
  },
  {
   "cell_type": "code",
   "execution_count": 96,
   "id": "075cd1d7-2543-4616-afa2-0edaa9560ad7",
   "metadata": {},
   "outputs": [],
   "source": [
    "class Tweets_GRU(nn.Module):\n",
    "    def __init__(self, vocab_size, embedding_dim, hidden_size, bias, num_layers, dropout):\n",
    "        super(Tweets_GRU, self).__init__()\n",
    "        self.embedding = nn.Embedding(vocab_size, embedding_dim)\n",
    "        self.GRU_layer = nn.GRU(input_size=embedding_dim, hidden_size=hidden_size, \n",
    "                                  num_layers=num_layers,bias = True,\n",
    "                                  bidirectional=True)\n",
    "\n",
    "        self.dropout = nn.Dropout(p=.75)\n",
    "        self.tanh = nn.Tanh()\n",
    "        self.linear = nn.Linear(hidden_size * 2, 256)\n",
    "        self.linear_256 = nn.Linear(256, 64)\n",
    "        self.linear_64 = nn.Linear(64,16)\n",
    "        self.linear_16 = nn.Linear(16,4)\n",
    "        self.linear_4 = nn.Linear(4,1)\n",
    "        \n",
    "        # Step Down linear layers?\n",
    "        #self.output_layer = nn.Linear(hidden_size, 1)\n",
    "\n",
    "    def forward(self, input_text):\n",
    "        # Assuming input_text is already a LongTensor that has been prepared outside the model\n",
    "        embedded = self.embedding(input_text)\n",
    "        gru_output, _ = self.GRU_layer(embedded)\n",
    "        last_output = gru_output[:,:,:]\n",
    "        linear = self.linear(last_output)\n",
    "        tanh1 = self.tanh(linear)\n",
    "        linear_256 = self.linear_256(tanh1)\n",
    "        tanh2 = self.tanh(linear_256)\n",
    "        linear_64 = self.linear_64(tanh2)\n",
    "        tanh3 = self.tanh(linear_64)\n",
    "        linear_16 = self.linear_16(tanh3)\n",
    "        tanh4 = self.tanh(linear_16)\n",
    "        linear_4 = self.linear_4(tanh4)\n",
    "\n",
    "        final_output = linear_4.mean(dim=1)\n",
    "        #final_output = linear_4.mean(dim=1)\n",
    "        #print(final_output.shape)\n",
    "        return final_output.squeeze()  # Squeeze to remove the extra dimension"
   ]
  },
  {
   "cell_type": "code",
   "execution_count": 97,
   "id": "da4813c2-98b7-4c2d-8cef-1a03f59c75df",
   "metadata": {},
   "outputs": [
    {
     "name": "stdout",
     "output_type": "stream",
     "text": [
      "Embedding_dim: 64  Hidden Layer Size: 512  Best Validation Loss: 0.6150856614112854  Best Validation F1: 0.37822600981841487\n"
     ]
    }
   ],
   "source": [
    "run_num = run_num + 1\n",
    "num_layers = 1\n",
    "hidden_size = 512\n",
    "embedding_dim = 64\n",
    "\n",
    "model = Tweets_GRU(vocab_size=len(vocab_dict), \n",
    "            embedding_dim = embedding_dim,\n",
    "            hidden_size = hidden_size, \n",
    "            num_layers= num_layers, \n",
    "            dropout = 0.5, bias = True\n",
    "          ).to('cuda')\n",
    "\n",
    "output_data, result_text = run_model(epochs = 40, \n",
    "                                    model = model, \n",
    "                                    output_data = output_data,\n",
    "                                    run_num = run_num)\n",
    "print(f'Embedding_dim: {embedding_dim}  '\n",
    "      f'Hidden Layer Size: {hidden_size}  '\n",
    "      f'{result_text}')\n"
   ]
  },
  {
   "cell_type": "code",
   "execution_count": 98,
   "id": "23a10bca-f2fd-4bed-b167-c19bbdb7ae01",
   "metadata": {},
   "outputs": [
    {
     "data": {
      "image/png": "[encoded data removed]",
      "text/plain": [
       "<Figure size 1000x600 with 1 Axes>"
      ]
     },
     "metadata": {},
     "output_type": "display_data"
    }
   ],
   "source": [
    "title = (f\"GRU: \\nEmbedding Dim: {embedding_dim}\\n\"\n",
    "f\"#Hidden RNN Layers: {num_layers}\\n\"\n",
    "f\"Size of RNN Hidden Layers {hidden_size}\\n\")\n",
    "plot_vals(output_data[output_data['run'] == run_num], title, result_text)"
   ]
  },
  {
   "cell_type": "markdown",
   "id": "6a2df63c-1480-48a7-a990-f1e824e1d787",
   "metadata": {},
   "source": [
    "# Conclusion\n",
    "I suspect that my transition to Pytorch for this project is a large casue of why I wasn't able to get any improvement."
   ]
  },
  {
   "cell_type": "code",
   "execution_count": null,
   "id": "84dd9c1a-852a-48fb-ac73-f92cbe6b65ab",
   "metadata": {},
   "outputs": [],
   "source": [
    "test = pd.read_csv(test_path, header = 0)\n",
    "model = Tweets(vocab_size = best_model_params[\"vocab_size\"], \n",
    "                                 embedding_dim = best_model_params[\"embedding_dim\"],\n",
    "                                 hidden_size = best_model_params[\"hidden_size\"], \n",
    "                                 num_layers = best_model_params[\"num_layers\"],\n",
    "                                 nonlinearity = best_model_params[\"nonlinearity\"])\n",
    "model.load_state_dict(torch.load('best_model.model'))\n",
    "model.eval()  # Set the model to evaluation mode\n"
   ]
  },
  {
   "cell_type": "code",
   "execution_count": null,
   "id": "c670233f-fc24-43b1-acea-50534e4140dc",
   "metadata": {},
   "outputs": [],
   "source": []
  }
 ],
 "metadata": {
  "kernelspec": {
   "display_name": "Python 3 (ipykernel)",
   "language": "python",
   "name": "python3"
  },
  "language_info": {
   "codemirror_mode": {
    "name": "ipython",
    "version": 3
   },
   "file_extension": ".py",
   "mimetype": "text/x-python",
   "name": "python",
   "nbconvert_exporter": "python",
   "pygments_lexer": "ipython3",
   "version": "3.11.3"
  }
 },
 "nbformat": 4,
 "nbformat_minor": 5
}
